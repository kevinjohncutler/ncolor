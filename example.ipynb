{
 "cells": [
  {
   "cell_type": "code",
   "execution_count": null,
   "id": "30a3c190-5045-4840-b4c2-6d263b7a3178",
   "metadata": {},
   "outputs": [],
   "source": [
    "%load_ext autoreload\n",
    "%autoreload 2\n",
    "\n",
    "import skimage.io\n",
    "import os\n",
    "from pathlib import Path\n",
    "import ncolor\n",
    "\n",
    "masks_dir = Path(os.path.dirname(ncolor.__file__)).parent.absolute()\n",
    "masks = skimage.io.imread(os.path.join(masks_dir,'example.png'))"
   ]
  },
  {
   "cell_type": "code",
   "execution_count": null,
   "id": "8f85ebf1-19a9-4bd7-afca-e077d99f9018",
   "metadata": {},
   "outputs": [],
   "source": [
    "def rescale(T):\n",
    "    \"\"\"Rescale array between 0 and 1\"\"\"\n",
    "    T = np.interp(T, (T[:].min(), T[:].max()), (0, 1))\n",
    "    return T\n",
    "\n",
    "import numpy as np\n",
    "import matplotlib.pyplot as plt\n",
    "plt.style.use('dark_background')\n",
    "import matplotlib as mpl\n",
    "%matplotlib inline\n",
    "mpl.rcParams['figure.dpi'] = 300\n",
    "\n",
    "from skimage import measure \n",
    "from scipy.ndimage import find_objects, binary_dilation\n",
    "\n",
    "def crop_bbx(mask, pad=10, iterations=3, im_pad=0, area_cutoff=0, max_dim=np.inf):\n",
    "    \"\"\"Take a label matrix and return a list of bounding boxes identifying clusters of labels.\n",
    "    \n",
    "    Parameters\n",
    "    --------------\n",
    "\n",
    "    mask: matrix of integer labels\n",
    "    pad: amount of space in pixels to add around the label (does not extend beyond image edges)\n",
    "    iterations: number of dilation iterations to merge labels separated by this number of pixel or less\n",
    "    im_pad: amount of space to subtract off the label matrix edges\n",
    "    area_cutoff: label clusters below this area in square pixels will be ignored\n",
    "    max_dim: if a cluster is above this cutoff, quit and return the original image bounding box\n",
    "    \n",
    "\n",
    "    Returns\n",
    "    ---------------\n",
    "\n",
    "    bbx: list of bounding boxes\n",
    "    \n",
    "    \"\"\"\n",
    "    bw = binary_dilation(mask>0,iterations=iterations)\n",
    "    clusters = measure.label(bw)\n",
    "    regions = measure.regionprops(clusters)\n",
    "    sz = mask.shape\n",
    "    ylim = [im_pad,sz[0]-im_pad]\n",
    "    xlim = [im_pad,sz[1]-im_pad]\n",
    "    \n",
    "    bboxes = []\n",
    "    for props in regions:\n",
    "        if props.area>area_cutoff:\n",
    "            bbx = props.bbox \n",
    "            y1 = max(bbx[0]-pad,ylim[0])\n",
    "            x1 = max(bbx[1]-pad,xlim[0])\n",
    "            y2 = min(bbx[2]+pad,ylim[1])\n",
    "            x2 = min(bbx[3]+pad,xlim[1])\n",
    "            w = x2-x1\n",
    "            h = y2-y1\n",
    "            \n",
    "            if w>0 and h>0: \n",
    "                if w<max_dim and h<max_dim:\n",
    "                    bboxes.append([y1,y2,x1,x2])\n",
    "                    # m = maski[y1:y2,x1:x2].copy()\n",
    "            else:\n",
    "                return [[0,ylim,0,xlim]]\n",
    "    return bboxes\n",
    "\n",
    "import ncolor\n",
    "bbx = crop_bbx(masks)\n",
    "y1,y2,x1,x2 = bbx[0]\n",
    "m = masks[y1:y2,x1:x2]\n",
    "nc = ncolor.label(m)\n",
    "\n",
    "combined = np.hstack((rescale(m),rescale(nc)))\n",
    "\n",
    "cmap = mpl.cm.get_cmap('viridis')\n",
    "pic = cmap(rescale(combined))\n",
    "pic[:,:,-1] = combined>0\n",
    "plt.imshow(pic)\n",
    "plt.axis('off')\n",
    "plt.show()\n",
    "# skimage.io.imsave('/Volumes/DataDrive/ncolor/logo.png',((pic)*255).astype(np.uint8))"
   ]
  },
  {
   "cell_type": "code",
   "execution_count": null,
   "id": "a3fd6807-a5d6-408a-a8a1-fae9dcfa1d5b",
   "metadata": {},
   "outputs": [],
   "source": [
    "rnc = rescale(nc)\n",
    "splitview = rescale(m)\n",
    "sz = m.shape\n",
    "x, y = np.indices(sz)\n",
    "mask = y-x*sz[1]/sz[0]>0 # y < x\n",
    "splitview[mask] = rnc[mask]\n",
    "plt.imshow(splitview)"
   ]
  },
  {
   "cell_type": "code",
   "execution_count": null,
   "id": "98835a5d-081e-4bee-b2bc-595e01638033",
   "metadata": {},
   "outputs": [],
   "source": [
    "ncolor.__dict__\n"
   ]
  },
  {
   "cell_type": "code",
   "execution_count": null,
   "id": "bbdcfb3f-2eb0-4218-9d39-755d3e89ec79",
   "metadata": {},
   "outputs": [],
   "source": [
    "dir(ncolor)"
   ]
  }
 ],
 "metadata": {
  "kernelspec": {
   "display_name": "Python 3 (ipykernel)",
   "language": "python",
   "name": "python3"
  },
  "language_info": {
   "codemirror_mode": {
    "name": "ipython",
    "version": 3
   },
   "file_extension": ".py",
   "mimetype": "text/x-python",
   "name": "python",
   "nbconvert_exporter": "python",
   "pygments_lexer": "ipython3",
   "version": "3.8.10"
  }
 },
 "nbformat": 4,
 "nbformat_minor": 5
}
